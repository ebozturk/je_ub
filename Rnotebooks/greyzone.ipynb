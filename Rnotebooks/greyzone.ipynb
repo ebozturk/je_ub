{
 "cells": [
  {
   "cell_type": "code",
   "execution_count": null,
   "metadata": {},
   "outputs": [],
   "source": [
    "g_zone=\n",
    "  function (ref, test, prevalence = NULL, criterion.values = c(lrn, \n",
    "                                                               lrp), return.all = F) \n",
    "  {\n",
    "    find.closest <- function(M, crit) {\n",
    "      M[which(is.na(M))] = Inf\n",
    "      mindiff = min(abs(M - crit))\n",
    "      which((M == crit + mindiff) | (M == crit - mindiff), \n",
    "            arr.ind = T)\n",
    "    }\n",
    "    df = data.frame(cbind(ref, test))\n",
    "    if (is.null(prevalence)) \n",
    "      prevalence = sum(df$ref == 1)/length(df$ref)\n",
    "    tab = as.matrix(table(df$test, df$ref))#\n",
    "    totpos = sum(tab[, 2])\n",
    "    totneg = sum(tab[, 1])\n",
    "    rdf = data.frame(thresholds = unique(sort(test)),\n",
    "                     d0 = tab[,\"0\"], d1 = tab[, \"1\"], row.names = 1:nrow(tab))\n",
    "    rdf$tot = rowSums(tab)\n",
    "    rdf$TP = unname(rev(cumsum(rev(tab[, 2]))))\n",
    "    rdf$FP = unname(rev(cumsum(rev(tab[, 1]))))\n",
    "    rdf$TN = totneg - rdf$FP\n",
    "    rdf$FN = totpos - rdf$TP\n",
    "    rdf$tpr = rdf$TP/totpos\n",
    "    rdf$fpr = rdf$FP/totneg\n",
    "    rdf$preodds = prevalence/(1 - prevalence)\n",
    "    rdf$sp = 1 - rdf$fpr\n",
    "    rdf$se = rdf$tpr\n",
    "    rdf$neg.lr = (1 - rdf$se)/rdf$sp\n",
    "    rdf$pos.lr = rdf$se/(1 - rdf$sp)\n",
    "    rdf$negpostodds = rdf$neg.lr * rdf$preodds\n",
    "    rdf$pospostodds = rdf$pos.lr * rdf$preodds\n",
    "    rdf$negpostprob = rdf$negpostodds/(rdf$negpostodds + 1)\n",
    "    rdf$pospostprob = rdf$pospostodds/(rdf$pospostodds + 1)\n",
    "    ltpos = find.closest(rdf$neg.lr, criterion.values[1])\n",
    "    utpos = find.closest(rdf$pos.lr, criterion.values[2])\n",
    "    rdf$threshold[ltpos]\n",
    "    rdf$threshold[utpos]\n",
    "    rdf$threshold[which(rdf$neg.lr <= criterion.values[1])]\n",
    "    rdf$threshold[which(rdf$pos.lr >= criterion.values[2])]\n",
    "    if (length(ltpos) > 1 | length(utpos) > 1) \n",
    "      warning(\"Multiple thresholds found.\")\n",
    "    if (return.all) {\n",
    "      return(list(table = rdf, thresholds = c(lt = as.numeric(rownames(tab))[ltpos], \n",
    "                                              ut = as.numeric(rownames(tab))[utpos])))\n",
    "    }\n",
    "    else return(c(lt = as.numeric(rownames(tab))[ltpos], ut = as.numeric(rownames(tab))[utpos]))\n",
    "  }\n",
    "\n",
    "\n",
    "\n"
   ]
  }
 ],
 "metadata": {
  "kernelspec": {
   "display_name": "Python 3",
   "language": "python",
   "name": "python3"
  },
  "language_info": {
   "codemirror_mode": {
    "name": "ipython",
    "version": 3
   },
   "file_extension": ".py",
   "mimetype": "text/x-python",
   "name": "python",
   "nbconvert_exporter": "python",
   "pygments_lexer": "ipython3",
   "version": "3.8.3"
  }
 },
 "nbformat": 4,
 "nbformat_minor": 4
}
